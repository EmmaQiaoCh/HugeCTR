{
 "cells": [
  {
   "cell_type": "markdown",
   "metadata": {},
   "source": [
    "# Prototype hybrid embedding : data-parallel frequent categories and model- parallel infrequent categories"
   ]
  },
  {
   "cell_type": "code",
   "execution_count": 1,
   "metadata": {},
   "outputs": [],
   "source": [
    "import numpy as np\n",
    "from copy import deepcopy"
   ]
  },
  {
   "cell_type": "code",
   "execution_count": 2,
   "metadata": {},
   "outputs": [],
   "source": [
    "batch_size = 64\n",
    "num_slots = 10\n",
    "num_nodes = 2\n",
    "num_networks_per_node = 4"
   ]
  },
  {
   "cell_type": "code",
   "execution_count": 3,
   "metadata": {},
   "outputs": [],
   "source": [
    "def flatten_data(data):\n",
    "    # concatenate all iterations\n",
    "    samples_data = np.concatenate([deepcopy(data[i][1]) for i in range(len(data))], axis=1)\n",
    "\n",
    "    # data dimensions\n",
    "    embedding_sizes = data[0][0]\n",
    "    num_tables = samples_data.shape[0]\n",
    "    num_samples = samples_data.shape[1]\n",
    "\n",
    "    samples = np.zeros(num_tables * num_samples, dtype=np.int32)\n",
    "    category_index_offset = 0\n",
    "    for j in range(num_tables):\n",
    "        for i in range(num_samples):\n",
    "            samples[j*num_samples + i] =  category_index_offset + samples_data[j, i]\n",
    "        category_index_offset += embedding_sizes[j]\n",
    "\n",
    "    return samples"
   ]
  },
  {
   "cell_type": "code",
   "execution_count": 4,
   "metadata": {},
   "outputs": [
    {
     "name": "stdout",
     "output_type": "stream",
     "text": [
      "num_categories: 593\n"
     ]
    }
   ],
   "source": [
    "# Generate synthetic data\n",
    "embed_sizes = np.random.randint(1, 2*batch_size, num_slots);\n",
    "num_categories = sum(embed_sizes)\n",
    "print(\"num_categories:\", num_categories)"
   ]
  },
  {
   "cell_type": "code",
   "execution_count": 5,
   "metadata": {},
   "outputs": [
    {
     "name": "stdout",
     "output_type": "stream",
     "text": [
      "31,42,40,64,73,55,26,124,117,21\n"
     ]
    }
   ],
   "source": [
    "print(\",\".join(map(str, embed_sizes)))"
   ]
  },
  {
   "cell_type": "code",
   "execution_count": 6,
   "metadata": {},
   "outputs": [],
   "source": [
    "data = []\n",
    "num_batches = 15\n",
    "for i in range(num_batches):\n",
    "    batch = np.zeros((num_slots, batch_size))\n",
    "    for j in range(num_slots):\n",
    "        batch[j, :] = np.random.randint(0, embed_sizes[j], batch_size)\n",
    "    data.append((embed_sizes, batch))"
   ]
  },
  {
   "cell_type": "code",
   "execution_count": 7,
   "metadata": {},
   "outputs": [],
   "source": [
    "samples = flatten_data(data)"
   ]
  },
  {
   "cell_type": "code",
   "execution_count": 8,
   "metadata": {},
   "outputs": [],
   "source": [
    "# configure nodes and gpus\n",
    "\n",
    "class Gpu:\n",
    "\n",
    "    def __init__(self):\n",
    "        self.frequent_categories = None\n",
    "        self.category_frequent_index = None\n",
    "        self.frequent_embedding_vectors = None\n",
    "        self.frequent_partial_gradients = None\n",
    "        self.category_location = None\n",
    "        self.node = None\n",
    "\n",
    "    def init_embedding_cache(self, num_frequent, embedding_vec_size):\n",
    "        self.num_frequent = num_frequent\n",
    "        self.frequent_embedding_vectors = np.zeros(num_frequent*embedding_vec_size, dtype=np.float32)\n",
    "        self.frequent_partial_gradients = np.zeros(num_frequent*embedding_vec_size, dtype=np.float32)\n",
    "        \n",
    "class Node:\n",
    "\n",
    "    def __init__(self, num_gpus):\n",
    "        self.gpus = [Gpu() for i in range(num_gpus)]\n",
    "        for i in range(num_gpus):\n",
    "            self.gpus[i].gpu_id = i\n",
    "            self.gpus[i].node = self # reference to this node\n",
    "\n",
    "class Network:\n",
    "\n",
    "    def __init__(self, nodes):\n",
    "        self.nodes = nodes\n",
    "\n",
    "    def all_reduce(self):\n",
    "        pass\n",
    "\n",
    "    def all_to_all(self):\n",
    "        pass"
   ]
  },
  {
   "cell_type": "code",
   "execution_count": 9,
   "metadata": {
    "scrolled": true
   },
   "outputs": [],
   "source": [
    "nodes = [Node(num_networks_per_node) for i in range(num_nodes)]\n",
    "gpus = [gpu for node in nodes for gpu in node.gpus]\n",
    "num_gpus = len(gpus)\n",
    "for i in range(num_nodes):\n",
    "    nodes[i].node_id = i\n",
    "network = Network(nodes)"
   ]
  },
  {
   "cell_type": "code",
   "execution_count": 10,
   "metadata": {},
   "outputs": [
    {
     "name": "stdout",
     "output_type": "stream",
     "text": [
      "237 / 593\n"
     ]
    }
   ],
   "source": [
    "uniques, counts = np.unique(samples, return_counts=True)\n",
    "# sorted_uniques = sorted(zip(counts, uniques), key=lambda x: -x[0])\n",
    "threshold = num_batches\n",
    "mask = counts > threshold\n",
    "frequent = set(uniques[mask])\n",
    "num_frequent = len(frequent)\n",
    "print(num_frequent, \"/\", num_categories)"
   ]
  },
  {
   "cell_type": "code",
   "execution_count": 11,
   "metadata": {},
   "outputs": [],
   "source": [
    "# category_location\n",
    "num_infrequent = num_categories - num_frequent\n",
    "category_location = num_categories * np.ones((num_categories,2), dtype=np.int32)\n",
    "infrequent_index = np.zeros(num_categories)\n",
    "infrequent_mask = np.ones(num_categories, dtype=bool)\n",
    "for c in frequent:\n",
    "    infrequent_mask[c] = 0\n",
    "infrequent_index[infrequent_mask] = range(num_infrequent)\n",
    "for c in range(num_categories):\n",
    "    if c not in frequent:\n",
    "        index = infrequent_index[c]\n",
    "        category_location[c,:] = [index % num_gpus, index // num_gpus]"
   ]
  },
  {
   "cell_type": "code",
   "execution_count": 12,
   "metadata": {},
   "outputs": [],
   "source": [
    "for gpu in gpus:\n",
    "    gpu.category_location = category_location"
   ]
  },
  {
   "cell_type": "code",
   "execution_count": 13,
   "metadata": {},
   "outputs": [
    {
     "name": "stdout",
     "output_type": "stream",
     "text": [
      "\u001b[1m\u001b[91mcategory          |->  category location \u001b[0m\n",
      "category \u001b[1m  0\u001b[0m      |->  category location   \u001b[1m\u001b[91mEND\u001b[0m\n",
      "category \u001b[1m  1\u001b[0m      |->  category location   \u001b[1m\u001b[91mEND\u001b[0m\n",
      "category \u001b[1m  2\u001b[0m      |->  category location   \u001b[1m\u001b[91mEND\u001b[0m\n",
      "category \u001b[1m  3\u001b[0m      |->  category location   \u001b[1m\u001b[91mEND\u001b[0m\n",
      "category \u001b[1m  4\u001b[0m      |->  category location   \u001b[1m\u001b[91mEND\u001b[0m\n",
      "category \u001b[1m  5\u001b[0m      |->  category location   \u001b[1m\u001b[91mEND\u001b[0m\n",
      "category \u001b[1m  6\u001b[0m      |->  category location   \u001b[1m\u001b[91mEND\u001b[0m\n",
      "category \u001b[1m  7\u001b[0m      |->  category location   \u001b[1m\u001b[91mEND\u001b[0m\n",
      "category \u001b[1m  8\u001b[0m      |->  category location   \u001b[1m\u001b[91mEND\u001b[0m\n",
      "category \u001b[1m  9\u001b[0m      |->  category location   \u001b[1m\u001b[91mEND\u001b[0m\n",
      "category \u001b[1m 10\u001b[0m      |->  category location   \u001b[1m\u001b[91mEND\u001b[0m\n",
      "category \u001b[1m 11\u001b[0m      |->  category location   \u001b[1m\u001b[91mEND\u001b[0m\n",
      "category \u001b[1m 12\u001b[0m      |->  category location   \u001b[1m\u001b[91mEND\u001b[0m\n",
      "category \u001b[1m 13\u001b[0m      |->  category location   \u001b[1m\u001b[91mEND\u001b[0m\n",
      "category \u001b[1m 14\u001b[0m      |->  category location   \u001b[1m\u001b[91mEND\u001b[0m\n",
      "category \u001b[1m 15\u001b[0m      |->  category location   \u001b[1m\u001b[91mEND\u001b[0m\n",
      "category \u001b[1m 16\u001b[0m      |->  category location   \u001b[1m\u001b[91mEND\u001b[0m\n",
      "category \u001b[1m 17\u001b[0m      |->  category location   \u001b[1m\u001b[91mEND\u001b[0m\n",
      "category \u001b[1m 18\u001b[0m      |->  category location   \u001b[1m\u001b[91mEND\u001b[0m\n",
      "category \u001b[1m 19\u001b[0m      |->  category location   \u001b[1m\u001b[91mEND\u001b[0m\n"
     ]
    }
   ],
   "source": [
    "n_display = 20\n",
    "class color:\n",
    "   PURPLE = '\\033[95m'\n",
    "   CYAN = '\\033[96m'\n",
    "   DARKCYAN = '\\033[36m'\n",
    "   BLUE = '\\033[94m'\n",
    "   GREEN = '\\033[92m'\n",
    "   YELLOW = '\\033[93m'\n",
    "   RED = '\\033[91m'\n",
    "   BOLD = '\\033[1m'\n",
    "   UNDERLINE = '\\033[4m'\n",
    "   END = '\\033[0m'\n",
    "print(f'{color.BOLD}{color.RED}category          |->  category location {color.END}')\n",
    "for category in range(n_display):\n",
    "    location = category_location[category,:]\n",
    "    if location[0] < num_categories:\n",
    "        print(f'category {color.BOLD}{category:3d}{color.END}      |->  category location {color.BOLD}{color.GREEN}{location}{color.END}')\n",
    "    else:\n",
    "        print(f'category {color.BOLD}{category:3d}{color.END}      |->  category location   {color.BOLD}{color.RED}END{color.END}')"
   ]
  },
  {
   "cell_type": "code",
   "execution_count": 14,
   "metadata": {},
   "outputs": [],
   "source": [
    "assert np.sum(category_location[:,0] != num_categories) == num_infrequent"
   ]
  },
  {
   "cell_type": "markdown",
   "metadata": {},
   "source": [
    "# Index calculations"
   ]
  },
  {
   "cell_type": "code",
   "execution_count": 18,
   "metadata": {},
   "outputs": [],
   "source": [
    "from bisect import bisect_left\n",
    "\n",
    "def get_node_gpu(node_id, gpu_id):\n",
    "    # not efficient, but that's not the point here! :P\n",
    "    node = None\n",
    "    gpu = None\n",
    "    for node_ in nodes:\n",
    "        if node_.node_id == node_id:\n",
    "            node = node_\n",
    "            break\n",
    "    for gpu_ in node.gpus:\n",
    "        if gpu_.gpu_id == gpu_id:\n",
    "            gpu = gpu_\n",
    "            break\n",
    "    return node, gpu\n",
    "\n",
    "def get_network_id(node_id, gpu_id):\n",
    "    for i in range(len(gpus)):\n",
    "        if gpus[i].node.node_id == node_id and gpus[i].gpu_id == gpu_id:\n",
    "            return i\n",
    "    raise KeyError(f\"Not found: node {node_id}, GPU {gpu_id}\")\n",
    "\n",
    "def cub_DeviceSelect(gpu, samples, network_id):\n",
    "    location = gpu.category_location[samples,:]\n",
    "    samples_mask = (location[:,0] == network_id)\n",
    "    samples_filter = np.r_[:samples.size][samples_mask]\n",
    "    return samples_filter\n",
    "\n",
    "# model indices: forward-send, backward-receive\n",
    "def calculate_model_indices(samples, node_id, gpu_id):\n",
    "    _, gpu = get_node_gpu(node_id, gpu_id)\n",
    "    network_id = get_network_id(node_id, gpu_id)\n",
    "    section_size = samples.size // num_gpus\n",
    "\n",
    "    sample_model_indices = cub_DeviceSelect(gpu, samples, network_id)\n",
    "    network_offset_model_indices = np.zeros(num_gpus + 1, dtype=np.int32)\n",
    "    for i in range(num_gpus):\n",
    "        network_offset_model_indices[i] = bisect_left(sample_model_indices, i * section_size)\n",
    "    network_offset_model_indices[-1] = sample_model_indices.size\n",
    "\n",
    "    return sample_model_indices, network_offset_model_indices\n",
    "\n",
    "# network indices: forward-receive, backward-send\n",
    "def calculate_network_indices(samples, node_id, gpu_id):\n",
    "    _, gpu = get_node_gpu(node_id, gpu_id)\n",
    "\n",
    "    section_size = samples.size // num_gpus\n",
    "    network_id = get_network_id(node_id, gpu_id)\n",
    "    start_idx = network_id * section_size\n",
    "    end_idx = min((network_id + 1) * section_size, samples.size)\n",
    "    sub_batch = samples[start_idx:end_idx]\n",
    "\n",
    "    location = gpu.category_location[sub_batch,:]\n",
    "    samples_mask = location[:,0] < num_categories\n",
    "    infrequent_indices = deepcopy(np.r_[:sub_batch.size][samples_mask])\n",
    "    network_indices = deepcopy(location[:, 0][samples_mask])\n",
    "    sorted_indices = np.array(sorted(zip(network_indices, infrequent_indices),\n",
    "                                     key=lambda x: x[0]))\n",
    "\n",
    "    sample_network_offsets = np.zeros(num_gpus + 1, dtype=np.int32)\n",
    "    if len(network_indices):\n",
    "        sample_network_indices = sorted_indices[:,1]\n",
    "        for i in range(num_gpus):\n",
    "            sample_network_offsets[i] = bisect_left(sorted_indices[:,0], i)\n",
    "    else:\n",
    "        sample_network_indices = np.zeros(0)\n",
    "    sample_network_offsets[-1] = len(network_indices)\n",
    "    \n",
    "    return sample_network_indices, sample_network_offsets"
   ]
  },
  {
   "cell_type": "code",
   "execution_count": 19,
   "metadata": {},
   "outputs": [],
   "source": [
    "iteration = 0\n",
    "batch = flatten_data([data[0]])"
   ]
  },
  {
   "cell_type": "code",
   "execution_count": 20,
   "metadata": {},
   "outputs": [],
   "source": [
    "model_indices = {}\n",
    "model_indices_offsets = {}\n",
    "for node_ in nodes:\n",
    "    for gpu_ in node_.gpus:\n",
    "        node_id = node_.node_id\n",
    "        gpu_id = gpu_.gpu_id\n",
    "        idx, off = calculate_model_indices(batch, node_id, gpu_id)\n",
    "        model_indices[(node_id, gpu_id)] = idx\n",
    "        model_indices_offsets[(node_id, gpu_id)] = off\n",
    "\n",
    "# print(model_indices)\n",
    "# print(model_indices_offsets)\n",
    "\n",
    "network_indices = {}\n",
    "network_indices_offsets = {}\n",
    "for node_ in nodes:\n",
    "    for gpu_ in node_.gpus:\n",
    "        node_id = node_.node_id\n",
    "        gpu_id = gpu_.gpu_id\n",
    "        idx, off = calculate_network_indices(batch, node_id, gpu_id)\n",
    "        network_indices[(node_id, gpu_id)] = idx\n",
    "        network_indices_offsets[(node_id, gpu_id)] = off\n",
    "\n",
    "# print(network_indices)\n",
    "# print(network_indices_offsets)"
   ]
  },
  {
   "cell_type": "code",
   "execution_count": 21,
   "metadata": {},
   "outputs": [
    {
     "name": "stdout",
     "output_type": "stream",
     "text": [
      "[593, 593, 593, 593, 593, 593, 593, 593, 593, 593, 593, 593, 593, 593, 593, 593, 593, 593, 593, 593, 593, 593, 593, 593, 593, 593, 593, 593, 593, 593, 593, 593, 593, 593, 593, 593, 593, 593, 593, 593, 593, 593, 593, 593, 593, 593, 593, 593, 593, 593, 593, 593, 593, 593, 593, 593, 593, 593, 593, 593, 593, 593, 593, 593, 593, 593, 593, 593, 593, 593, 593, 593, 593, 593, 593, 593, 593, 593, 593, 593, 593, 593, 593, 593, 593, 593, 593, 593, 593, 593, 0, 0, 593, 593, 593, 593, 593, 593, 593, 593, 593, 593, 593, 593, 593, 593, 593, 593, 593, 593, 593, 593, 1, 0, 593, 593, 593, 593, 593, 593, 2, 0, 593, 593, 593, 593, 593, 593, 3, 0, 593, 593, 593, 593, 593, 593, 593, 593, 593, 593, 593, 593, 593, 593, 593, 593, 593, 593, 593, 593, 593, 593, 593, 593, 593, 593, 593, 593, 593, 593, 593, 593, 593, 593, 593, 593, 593, 593, 593, 593, 593, 593, 593, 593, 593, 593, 593, 593, 593, 593, 593, 593, 593, 593, 593, 593, 593, 593, 593, 593, 593, 593, 593, 593, 593, 593, 593, 593, 593, 593, 593, 593, 593, 593, 593, 593, 593, 593, 593, 593, 593, 593, 593, 593, 593, 593, 593, 593, 593, 593, 593, 593, 593, 593, 593, 593, 593, 593, 4, 0, 593, 593, 593, 593, 5, 0, 6, 0, 7, 0, 0, 1, 593, 593, 593, 593, 593, 593, 1, 1, 2, 1, 3, 1, 593, 593, 593, 593, 4, 1, 593, 593, 593, 593, 5, 1, 593, 593, 593, 593, 6, 1, 7, 1, 0, 2, 1, 2, 2, 2, 3, 2, 593, 593, 4, 2, 593, 593, 5, 2, 6, 2, 593, 593, 593, 593, 7, 2, 593, 593, 593, 593, 593, 593, 593, 593, 0, 3, 1, 3, 2, 3, 593, 593, 3, 3, 4, 3, 593, 593, 5, 3, 593, 593, 593, 593, 6, 3, 7, 3, 593, 593, 593, 593, 0, 4, 1, 4, 593, 593, 2, 4, 593, 593, 3, 4, 4, 4, 5, 4, 593, 593, 593, 593, 593, 593, 6, 4, 7, 4, 0, 5, 1, 5, 2, 5, 3, 5, 4, 5, 5, 5, 6, 5, 593, 593, 7, 5, 593, 593, 0, 6, 1, 6, 2, 6, 3, 6, 4, 6, 5, 6, 6, 6, 7, 6, 0, 7, 593, 593, 1, 7, 2, 7, 3, 7, 4, 7, 5, 7, 6, 7, 7, 7, 0, 8, 1, 8, 593, 593, 2, 8, 3, 8, 4, 8, 593, 593, 593, 593, 5, 8, 6, 8, 593, 593, 7, 8, 0, 9, 1, 9, 593, 593, 2, 9, 3, 9, 4, 9, 593, 593, 5, 9, 6, 9, 7, 9, 0, 10, 1, 10, 2, 10, 3, 10, 4, 10, 593, 593, 5, 10, 6, 10, 7, 10, 593, 593, 593, 593, 0, 11, 593, 593, 1, 11, 2, 11, 3, 11, 4, 11, 5, 11, 6, 11, 7, 11, 0, 12, 593, 593, 593, 593, 593, 593, 1, 12, 593, 593, 593, 593, 593, 593, 593, 593, 593, 593, 2, 12, 593, 593, 3, 12, 593, 593, 593, 593, 593, 593, 593, 593, 593, 593, 593, 593, 593, 593, 593, 593, 593, 593, 4, 12, 593, 593, 593, 593, 5, 12, 593, 593, 6, 12, 593, 593, 593, 593, 593, 593, 593, 593, 593, 593, 593, 593, 7, 12, 0, 13, 593, 593, 1, 13, 593, 593, 2, 13, 3, 13, 4, 13, 5, 13, 593, 593, 593, 593, 593, 593, 6, 13, 593, 593, 7, 13, 0, 14, 1, 14, 593, 593, 2, 14, 3, 14, 593, 593, 593, 593, 593, 593, 593, 593, 593, 593, 593, 593, 593, 593, 593, 593, 593, 593, 593, 593, 593, 593, 593, 593, 593, 593, 593, 593, 593, 593, 593, 593, 593, 593, 593, 593, 593, 593, 593, 593, 593, 593, 593, 593, 593, 593, 593, 593, 593, 593, 593, 593, 593, 593, 593, 593, 4, 14, 5, 14, 6, 14, 7, 14, 0, 15, 1, 15, 2, 15, 3, 15, 4, 15, 5, 15, 6, 15, 7, 15, 0, 16, 1, 16, 2, 16, 3, 16, 4, 16, 5, 16, 6, 16, 7, 16, 0, 17, 1, 17, 2, 17, 3, 17, 4, 17, 5, 17, 6, 17, 7, 17, 0, 18, 1, 18, 2, 18, 3, 18, 4, 18, 5, 18, 6, 18, 7, 18, 0, 19, 1, 19, 2, 19, 3, 19, 4, 19, 5, 19, 6, 19, 7, 19, 0, 20, 1, 20, 2, 20, 3, 20, 4, 20, 5, 20, 6, 20, 7, 20, 0, 21, 1, 21, 2, 21, 3, 21, 4, 21, 5, 21, 6, 21, 7, 21, 0, 22, 1, 22, 2, 22, 3, 22, 4, 22, 5, 22, 6, 22, 7, 22, 0, 23, 1, 23, 2, 23, 3, 23, 4, 23, 5, 23, 6, 23, 7, 23, 0, 24, 1, 24, 2, 24, 3, 24, 4, 24, 5, 24, 6, 24, 7, 24, 0, 25, 1, 25, 2, 25, 3, 25, 4, 25, 5, 25, 6, 25, 7, 25, 0, 26, 1, 26, 2, 26, 3, 26, 4, 26, 5, 26, 6, 26, 7, 26, 0, 27, 1, 27, 2, 27, 3, 27, 4, 27, 5, 27, 6, 27, 7, 27, 0, 28, 1, 28, 2, 28, 3, 28, 4, 28, 5, 28, 6, 28, 7, 28, 0, 29, 1, 29, 2, 29, 3, 29, 4, 29, 5, 29, 6, 29, 7, 29, 0, 30, 1, 30, 2, 30, 3, 30, 4, 30, 5, 30, 6, 30, 7, 30, 0, 31, 1, 31, 2, 31, 3, 31, 4, 31, 593, 593, 5, 31, 6, 31, 7, 31, 0, 32, 1, 32, 2, 32, 3, 32, 4, 32, 5, 32, 6, 32, 7, 32, 0, 33, 1, 33, 2, 33, 3, 33, 4, 33, 5, 33, 6, 33, 7, 33, 0, 34, 1, 34, 2, 34, 3, 34, 4, 34, 5, 34, 6, 34, 7, 34, 0, 35, 1, 35, 2, 35, 3, 35, 4, 35, 5, 35, 6, 35, 7, 35, 0, 36, 1, 36, 2, 36, 3, 36, 4, 36, 5, 36, 6, 36, 7, 36, 0, 37, 1, 37, 2, 37, 3, 37, 4, 37, 5, 37, 6, 37, 7, 37, 0, 38, 1, 38, 2, 38, 3, 38, 4, 38, 5, 38, 6, 38, 7, 38, 0, 39, 1, 39, 2, 39, 3, 39, 4, 39, 5, 39, 6, 39, 7, 39, 0, 40, 1, 40, 2, 40, 3, 40, 4, 40, 5, 40, 6, 40, 7, 40, 0, 41, 1, 41, 2, 41, 3, 41, 4, 41, 5, 41, 6, 41, 7, 41, 0, 42, 1, 42, 2, 42, 3, 42, 4, 42, 5, 42, 6, 42, 7, 42, 0, 43, 1, 43, 2, 43, 3, 43, 4, 43, 5, 43, 6, 43, 7, 43, 0, 44, 1, 44, 2, 44, 3, 44, 593, 593, 593, 593, 593, 593, 593, 593, 593, 593, 593, 593, 593, 593, 593, 593, 593, 593, 593, 593, 593, 593, 593, 593, 593, 593, 593, 593, 593, 593, 593, 593, 593, 593, 593, 593, 593, 593, 593, 593, 593, 593]\n"
     ]
    }
   ],
   "source": [
    "print(list(np.reshape(category_location, 2*num_categories)))"
   ]
  },
  {
   "cell_type": "code",
   "execution_count": 22,
   "metadata": {},
   "outputs": [
    {
     "name": "stdout",
     "output_type": "stream",
     "text": [
      "[20, 24, 7, 26, 19, 20, 22, 28, 13, 27, 23, 16, 19, 8, 10, 14, 5, 17, 20, 9, 25, 27, 28, 27, 5, 25, 5, 26, 27, 12, 8, 6, 5, 10, 6, 26, 12, 6, 9, 19, 19, 5, 0, 27, 30, 22, 3, 26, 3, 10, 13, 5, 13, 24, 14, 30, 22, 0, 24, 9, 2, 18, 13, 9, 65, 62, 62, 46, 40, 67, 61, 70, 72, 63, 33, 66, 55, 37, 42, 70, 31, 68, 67, 47, 69, 58, 72, 70, 49, 54, 39, 37, 71, 51, 72, 56, 54, 53, 65, 40, 48, 43, 32, 60, 67, 52, 58, 52, 41, 66, 50, 39, 69, 54, 54, 59, 55, 49, 69, 50, 32, 58, 50, 36, 38, 38, 57, 46, 102, 111, 110, 102, 91, 91, 91, 91, 81, 97, 80, 85, 79, 89, 100, 78, 80, 90, 109, 109, 79, 74, 110, 108, 108, 90, 79, 96, 97, 96, 109, 81, 108, 84, 98, 92, 93, 87, 104, 100, 81, 95, 99, 90, 99, 78, 82, 91, 86, 78, 93, 94, 95, 91, 80, 107, 110, 101, 86, 77, 111, 112, 84, 77, 160, 164, 151, 146, 117, 146, 147, 133, 175, 175, 118, 148, 147, 163, 141, 147, 154, 164, 165, 116, 171, 158, 128, 167, 163, 170, 149, 154, 129, 169, 124, 147, 150, 113, 154, 155, 172, 176, 169, 115, 136, 151, 159, 125, 131, 174, 119, 127, 127, 150, 159, 122, 127, 137, 113, 163, 114, 167, 169, 133, 175, 142, 126, 121, 218, 241, 213, 240, 202, 208, 181, 225, 194, 179, 180, 232, 193, 177, 207, 224, 181, 207, 223, 191, 238, 192, 177, 177, 228, 191, 201, 190, 208, 206, 222, 217, 239, 228, 218, 200, 190, 230, 244, 234, 196, 224, 195, 224, 232, 183, 238, 179, 230, 248, 196, 205, 225, 224, 179, 196, 177, 182, 239, 220, 230, 183, 242, 232, 277, 275, 283, 299, 262, 304, 285, 273, 263, 274, 287, 264, 284, 258, 273, 262, 279, 262, 265, 296, 297, 282, 250, 256, 274, 255, 295, 268, 262, 279, 259, 303, 287, 258, 274, 279, 275, 290, 300, 277, 297, 254, 266, 273, 252, 277, 272, 259, 296, 295, 264, 281, 261, 290, 285, 263, 265, 276, 294, 250, 264, 251, 274, 250, 322, 318, 309, 307, 311, 316, 318, 320, 308, 330, 310, 316, 317, 324, 319, 309, 314, 317, 313, 326, 308, 328, 329, 324, 307, 316, 321, 318, 309, 305, 328, 319, 314, 328, 326, 326, 315, 329, 310, 324, 327, 329, 317, 308, 330, 307, 326, 330, 325, 317, 311, 324, 310, 306, 317, 320, 306, 316, 308, 317, 309, 323, 326, 322, 396, 439, 425, 334, 405, 351, 396, 447, 384, 410, 449, 373, 359, 366, 350, 396, 360, 451, 442, 437, 402, 355, 356, 347, 414, 379, 422, 413, 423, 338, 441, 368, 348, 377, 446, 431, 436, 398, 360, 370, 401, 378, 345, 366, 359, 444, 442, 429, 397, 349, 336, 357, 416, 399, 415, 339, 363, 442, 331, 401, 444, 362, 416, 406, 469, 547, 491, 526, 528, 556, 460, 500, 554, 505, 533, 525, 520, 469, 461, 536, 567, 482, 528, 470, 559, 485, 564, 478, 548, 479, 486, 488, 493, 477, 472, 489, 547, 502, 463, 536, 503, 497, 547, 565, 518, 515, 535, 553, 563, 551, 512, 546, 507, 507, 532, 522, 569, 549, 505, 514, 527, 495, 521, 551, 501, 495, 568, 475, 587, 578, 579, 582, 574, 572, 590, 572, 573, 584, 579, 576, 576, 581, 585, 575, 585, 585, 591, 590, 584, 592, 583, 576, 577, 588, 574, 584, 585, 575, 592, 588, 590, 580, 587, 572, 583, 591, 588, 581, 580, 579, 586, 579, 574, 585, 586, 591, 586, 589, 573, 581, 592, 587, 574, 576, 578, 576, 576, 588, 590, 585, 580, 577]\n"
     ]
    }
   ],
   "source": [
    "print(list(batch))"
   ]
  },
  {
   "cell_type": "code",
   "execution_count": 23,
   "metadata": {},
   "outputs": [
    {
     "name": "stdout",
     "output_type": "stream",
     "text": [
      "{215,245,249,259,266,270,273,283,292,332,449,453,455,460,476,483,492,501,502,516,524,527,530,539,542,546,547,558,574},\n",
      "{95,208,219,222,226,261,262,272,275,281,284,291,293,304,315,316,318,323,456,464,479,486,498,500,510,521,543,549,555,564,566,570},\n",
      "{103,217,227,235,277,282,286,313,350,367,450,458,478,481,488,490,507,520,529,559,563,567},\n",
      "{228,254,260,267,268,274,294,300,301,317,319,372,457,466,468,477,487,489,494,505,509,513,514,544,550,553,556,560,561,575},\n",
      "{213,220,248,253,264,271,297,299,309,357,373,465,469,471,473,503,504,506,517,519,534,536,562},\n",
      "{192,196,237,298,329,344,354,382,448,454,463,470,480,484,493,508,512,518,522,523,525,533,540,541,551,565,572},\n",
      "{202,205,216,247,296,306,307,311,346,369,377,452,459,467,475,495,496,497,499,515,526,531,535,538,545,552},\n",
      "{193,203,209,232,238,256,265,280,285,289,290,303,305,310,322,340,360,451,461,462,472,474,482,485,491,511,528,532,537,548,554,557,568,569,571,573},\n"
     ]
    }
   ],
   "source": [
    "for key in sorted(model_indices.keys()):\n",
    "    print(\"{%s},\" % ','.join(map(str, model_indices[key])))"
   ]
  },
  {
   "cell_type": "code",
   "execution_count": 24,
   "metadata": {},
   "outputs": [
    {
     "name": "stdout",
     "output_type": "stream",
     "text": [
      "{0,0,0,1,9,10,15,28,29},\n",
      "{0,0,1,5,17,18,21,29,32},\n",
      "{0,0,1,4,8,10,13,20,22},\n",
      "{0,0,0,1,11,12,16,27,30},\n",
      "{0,0,0,2,9,11,15,22,23},\n",
      "{0,0,0,3,4,8,12,25,27},\n",
      "{0,0,0,3,8,11,15,26,26},\n",
      "{0,0,0,5,14,17,22,32,36},\n"
     ]
    }
   ],
   "source": [
    "for key in sorted(model_indices_offsets.keys()):\n",
    "    print(\"{%s},\" % ','.join(map(str, model_indices_offsets[key])))"
   ]
  },
  {
   "cell_type": "code",
   "execution_count": 25,
   "metadata": {},
   "outputs": [
    {
     "name": "stdout",
     "output_type": "stream",
     "text": [
      "{},\n",
      "{15,23},\n",
      "{55,48,59,62,66,57,67,75,68,53,60,32,36,77,42,45,56,33,43,49,72,78},\n",
      "{5,9,19,26,30,33,43,52,21,22,32,35,41,44,51,53,64,75,76,78,37,42,46,73,14,20,27,28,34,54,60,61,77,79,8,13,24,31,57,59,69,58,7,56,66,67,71,16,25,40,45,49,50,63,65,70},\n",
      "{12,3,30,47,52,37,53,9,24,34,62,26,49,57,2,20,40},\n",
      "{49,53,55,60,76,56,64,79,50,58,78,57,66,68,77,65,69,71,73,48,54,63,70,52,59,67,75,51,61,62,72,74},\n",
      "{3,12,21,22,36,44,47,50,59,62,66,67,78,6,18,20,30,41,63,69,75,1,8,10,27,40,49,79,7,9,14,25,29,33,34,64,70,73,76,23,24,26,37,39,54,56,0,4,13,28,32,38,42,43,45,53,60,61,71,15,16,17,19,35,46,51,55,58,65,72,2,5,11,31,48,52,57,68,74,77},\n",
      "{14,4,6,10,3,7,0,1,15,2,5,12,8,9,11,13},\n"
     ]
    }
   ],
   "source": [
    "for key in sorted(network_indices.keys()):\n",
    "    print(\"{%s},\" % ','.join(map(str, network_indices[key])))"
   ]
  },
  {
   "cell_type": "code",
   "execution_count": 26,
   "metadata": {},
   "outputs": [
    {
     "name": "stdout",
     "output_type": "stream",
     "text": [
      "{0,0,0,0,0,0,0,0,0},\n",
      "{0,0,1,2,2,2,2,2,2},\n",
      "{0,1,5,8,9,11,14,17,22},\n",
      "{0,8,20,24,34,41,42,47,56},\n",
      "{0,1,2,4,5,7,11,14,17},\n",
      "{0,5,8,11,15,19,23,27,32},\n",
      "{0,13,21,28,39,46,59,70,80},\n",
      "{0,1,4,6,9,10,12,12,16},\n"
     ]
    }
   ],
   "source": [
    "for key in sorted(network_indices_offsets.keys()):\n",
    "    print(\"{%s},\" % ','.join(map(str, network_indices_offsets[key])))"
   ]
  },
  {
   "cell_type": "code",
   "execution_count": null,
   "metadata": {},
   "outputs": [],
   "source": []
  }
 ],
 "metadata": {
  "celltoolbar": "Raw Cell Format",
  "kernelspec": {
   "display_name": "Python 3",
   "language": "python",
   "name": "python3"
  },
  "language_info": {
   "codemirror_mode": {
    "name": "ipython",
    "version": 3
   },
   "file_extension": ".py",
   "mimetype": "text/x-python",
   "name": "python",
   "nbconvert_exporter": "python",
   "pygments_lexer": "ipython3",
   "version": "3.6.9"
  }
 },
 "nbformat": 4,
 "nbformat_minor": 4
}
